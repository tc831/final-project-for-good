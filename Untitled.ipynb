{
 "cells": [
  {
   "cell_type": "code",
   "execution_count": 1,
   "id": "0261385d",
   "metadata": {},
   "outputs": [],
   "source": [
    "import psycopg2\n",
    "from flask import Flask, render_template\n",
    "\n",
    "\n",
    "\n",
    "app = Flask(__name__)\n",
    "con = psycopg2.connect(database=\"final_project\", user=\"postgres\", password=\"My2F6VUd4jb\", host=\"localhost\", port=\"5432\")\n",
    "cursor = con.cursor()\n",
    "cursor.execute(\"select * from matches_final\")\n",
    "result = cursor.fetchall()\n",
    "# return render_template(\"templates\\index.html\", data=result)"
   ]
  },
  {
   "cell_type": "code",
   "execution_count": 2,
   "id": "a75ada4f",
   "metadata": {},
   "outputs": [
    {
     "data": {
      "text/plain": [
       "[]"
      ]
     },
     "execution_count": 2,
     "metadata": {},
     "output_type": "execute_result"
    }
   ],
   "source": [
    "result"
   ]
  },
  {
   "cell_type": "code",
   "execution_count": null,
   "id": "70dc8698",
   "metadata": {},
   "outputs": [],
   "source": []
  }
 ],
 "metadata": {
  "kernelspec": {
   "display_name": "Python 3 (ipykernel)",
   "language": "python",
   "name": "python3"
  },
  "language_info": {
   "codemirror_mode": {
    "name": "ipython",
    "version": 3
   },
   "file_extension": ".py",
   "mimetype": "text/x-python",
   "name": "python",
   "nbconvert_exporter": "python",
   "pygments_lexer": "ipython3",
   "version": "3.9.7"
  },
  "vscode": {
   "interpreter": {
    "hash": "59c8d4991d116f71d30500eb60eca0ed24c8ed620b95ec374a4b3f9dbb9868ea"
   }
  }
 },
 "nbformat": 4,
 "nbformat_minor": 5
}
